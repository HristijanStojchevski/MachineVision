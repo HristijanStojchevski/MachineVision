{
 "cells": [
  {
   "cell_type": "code",
   "execution_count": 1,
   "metadata": {
    "collapsed": true
   },
   "outputs": [],
   "source": [
    "import cv2 as cv\n",
    "import matplotlib.pyplot as plt\n",
    "import numpy as np\n",
    "import pandas as pd\n",
    "import os\n",
    "import tensorflow as tf\n",
    "\n",
    "import time\n",
    "from scipy.spatial import distance\n",
    "from sklearn.cluster import KMeans\n",
    "from sklearn.metrics import classification_report\n"
   ]
  },
  {
   "cell_type": "code",
   "execution_count": 2,
   "outputs": [],
   "source": [
    "def features(image, extractor):\n",
    "    keypoints, descriptors = extractor.detectAndCompute(image, None)\n",
    "    return keypoints, descriptors\n",
    "\n",
    "\n",
    "def sift_features(images):\n",
    "    sift_vectors = {}\n",
    "    descriptor_list = []\n",
    "    sift = cv.xfeatures2d.SIFT_create()\n",
    "    for key,value in images.items():\n",
    "        feature_lst = []\n",
    "        for img in value:\n",
    "            kp, des = features(img, sift)\n",
    "            descriptor_list.extend(des)\n",
    "            feature_lst.append(des)\n",
    "        sift_vectors[key] = feature_lst\n",
    "    return [descriptor_list, sift_vectors]\n",
    "\n",
    "\n",
    "def kmeans(k, descriptor_list):\n",
    "    kmeans = KMeans(n_clusters = k, random_state=42)\n",
    "    kmeans.fit(descriptor_list)\n",
    "    visual_words = kmeans.cluster_centers_\n",
    "    return visual_words\n",
    "\n",
    "\n",
    "def find_index(image, center):\n",
    "    count = 0\n",
    "    ind = 0\n",
    "    for i in range(len(center)):\n",
    "        if i == 0:\n",
    "           count = distance.euclidean(image, center[i])\n",
    "           #count = L1_dist(image, center[i])\n",
    "        else:\n",
    "            dist = distance.euclidean(image, center[i])\n",
    "            #dist = L1_dist(image, center[i])\n",
    "            if dist < count:\n",
    "                ind = i\n",
    "                count = dist\n",
    "    return ind\n",
    "\n",
    "\n",
    "def image_class_training(all_bovw, centers):\n",
    "    dict_feature = {}\n",
    "    for class_name, img_feat in all_bovw.items():\n",
    "        category = []\n",
    "        for dscr in img_feat:\n",
    "            histogram = np.zeros(len(centers))\n",
    "            for each_feature in dscr:\n",
    "                ind = find_index(each_feature, centers)\n",
    "                histogram[ind] += 1\n",
    "            category.append(histogram)\n",
    "        dict_feature[class_name] = category\n",
    "    return dict_feature\n",
    "\n",
    "\n",
    "def get_histogram(descs: pd.Series, centers):\n",
    "    histogram = np.zeros(len(centers))\n",
    "    for each_feature in descs:\n",
    "        ind = find_index(each_feature, centers)\n",
    "        histogram[ind] += 1\n",
    "    return histogram\n",
    "\n",
    "\n",
    "def knn(train_bow, test):\n",
    "    first = True\n",
    "    for train_key, train_feat in train_bow.items():\n",
    "        for train in train_feat:\n",
    "            if first:\n",
    "                minimum = distance.euclidean(test, train)\n",
    "                #minimum = L1_dist(tst,train)\n",
    "                y_pred = train_key\n",
    "                first = False\n",
    "            else:\n",
    "                dist = distance.euclidean(test, train)\n",
    "                #dist = L1_dist(tst,train)\n",
    "                if dist < minimum:\n",
    "                    minimum = dist\n",
    "                    y_pred = train_key\n",
    "    return y_pred\n",
    "\n",
    "\n",
    "def resize_img(img_src):\n",
    "    img = cv.resize(img_src, (500, 500), interpolation=cv.INTER_CUBIC)\n",
    "    return img"
   ],
   "metadata": {
    "collapsed": false,
    "pycharm": {
     "name": "#%%\n"
    }
   }
  },
  {
   "cell_type": "code",
   "execution_count": 3,
   "outputs": [
    {
     "name": "stdout",
     "output_type": "stream",
     "text": [
      "(75, 3)\n"
     ]
    },
    {
     "data": {
      "text/plain": "       name        label\n0    84.JPG    Airblower\n1    85.JPG    Airblower\n2    72.JPG        Bells\n3    73.JPG        Bells\n4    13.JPG        Brush\n..      ...          ...\n68    5.JPG         USAF\n69    7.JPG         USAF\n70  205.JPG  Vegetation3\n71  174.JPG  Vegetation4\n72  176.JPG  Vegetation5\n\n[73 rows x 2 columns]",
      "text/html": "<div>\n<style scoped>\n    .dataframe tbody tr th:only-of-type {\n        vertical-align: middle;\n    }\n\n    .dataframe tbody tr th {\n        vertical-align: top;\n    }\n\n    .dataframe thead th {\n        text-align: right;\n    }\n</style>\n<table border=\"1\" class=\"dataframe\">\n  <thead>\n    <tr style=\"text-align: right;\">\n      <th></th>\n      <th>name</th>\n      <th>label</th>\n    </tr>\n  </thead>\n  <tbody>\n    <tr>\n      <th>0</th>\n      <td>84.JPG</td>\n      <td>Airblower</td>\n    </tr>\n    <tr>\n      <th>1</th>\n      <td>85.JPG</td>\n      <td>Airblower</td>\n    </tr>\n    <tr>\n      <th>2</th>\n      <td>72.JPG</td>\n      <td>Bells</td>\n    </tr>\n    <tr>\n      <th>3</th>\n      <td>73.JPG</td>\n      <td>Bells</td>\n    </tr>\n    <tr>\n      <th>4</th>\n      <td>13.JPG</td>\n      <td>Brush</td>\n    </tr>\n    <tr>\n      <th>...</th>\n      <td>...</td>\n      <td>...</td>\n    </tr>\n    <tr>\n      <th>68</th>\n      <td>5.JPG</td>\n      <td>USAF</td>\n    </tr>\n    <tr>\n      <th>69</th>\n      <td>7.JPG</td>\n      <td>USAF</td>\n    </tr>\n    <tr>\n      <th>70</th>\n      <td>205.JPG</td>\n      <td>Vegetation3</td>\n    </tr>\n    <tr>\n      <th>71</th>\n      <td>174.JPG</td>\n      <td>Vegetation4</td>\n    </tr>\n    <tr>\n      <th>72</th>\n      <td>176.JPG</td>\n      <td>Vegetation5</td>\n    </tr>\n  </tbody>\n</table>\n<p>73 rows × 2 columns</p>\n</div>"
     },
     "execution_count": 3,
     "metadata": {},
     "output_type": "execute_result"
    }
   ],
   "source": [
    "# PREPROCESSING\n",
    "df_training = pd.read_csv('data/train.csv', names=['name', 'label', 'lbl_no'])\n",
    "df_test = pd.read_csv('data/test.csv', names=['name', 'label', 'lbl_no'])\n",
    "training_imgs_names = os.listdir('data/Training')\n",
    "training_imgs = [cv.imread(f'data/Training/{name}') for name in training_imgs_names]\n",
    "test_imgs_names = os.listdir('data/TestSingleObjects')\n",
    "test_imgs = [cv.imread(f'data/TestSingleObjects/{name}') for name in test_imgs_names]\n",
    "dc_training = dict(names=training_imgs_names, imgs=training_imgs)\n",
    "print(df_training.shape)\n",
    "assert len(training_imgs_names) == df_training.shape[0]\n",
    "df_training['img_raw']=training_imgs\n",
    "df_test['img_raw']=test_imgs\n",
    "# df_training = pd.DataFrame(dc_training)\n",
    "df_test[['name','label']]"
   ],
   "metadata": {
    "collapsed": false,
    "pycharm": {
     "name": "#%%\n"
    }
   }
  },
  {
   "cell_type": "code",
   "execution_count": 4,
   "outputs": [],
   "source": [
    "# SIFT\n",
    "df_training['imgs_gray_raw'] = df_training['img_raw'].apply(lambda x: cv.cvtColor(x, cv.COLOR_RGB2GRAY))\n",
    "df_test['imgs_gray_raw'] = df_test['img_raw'].apply(lambda x: cv.cvtColor(x, cv.COLOR_RGB2GRAY))\n",
    "\n",
    "df_training['imgs_gray'] = df_training['imgs_gray_raw'].apply(resize_img)\n",
    "df_test['imgs_gray'] = df_test['imgs_gray_raw'].apply(resize_img)\n",
    "sift = cv.xfeatures2d.SIFT_create()\n",
    "with tf.device('/device:GPU:0'):\n",
    "    training_features = df_training['imgs_gray'].apply(lambda x: features(x, sift))\n",
    "    test_features = df_test['imgs_gray'].apply(lambda x: features(x, sift))\n",
    "    df_training['sift_keypoints'] = training_features.apply(lambda x: x[0])\n",
    "    df_training['sift_descriptors'] = training_features.apply(lambda x: x[1])\n",
    "    df_test['sift_keypoints'] = test_features.apply(lambda x: x[0])\n",
    "    df_test['sift_descriptors'] = test_features.apply(lambda x: x[1])\n",
    "df_training.to_csv('training_sift.csv', index=False)\n",
    "df_test.to_csv('test_sift.csv', index=False)"
   ],
   "metadata": {
    "collapsed": false,
    "pycharm": {
     "name": "#%%\n"
    }
   }
  },
  {
   "cell_type": "code",
   "execution_count": 8,
   "outputs": [],
   "source": [
    "# BAG OF WORDS\n",
    "\n",
    "labels = set(df_training.lbl_no.values)\n",
    "images = dict()\n",
    "test_images = dict()\n",
    "for lbl in labels:\n",
    "    images[lbl] = df_training.loc[df_training.lbl_no == lbl, 'imgs_gray'].values\n",
    "    if lbl in df_test['lbl_no'].values:\n",
    "        test_images[lbl] = df_test.loc[df_test.lbl_no == lbl, 'imgs_gray'].values"
   ],
   "metadata": {
    "collapsed": false,
    "pycharm": {
     "name": "#%%\n"
    }
   }
  },
  {
   "cell_type": "code",
   "execution_count": 9,
   "outputs": [],
   "source": [
    "with tf.device('/device:GPU:0'):\n",
    "    sifts = sift_features(images)\n",
    "    # Takes the descriptor list which is unordered one\n",
    "    descriptor_list = sifts[0]\n",
    "    all_bovw_feature = sifts[1]\n",
    "    bag_of_visual_words = kmeans(100, descriptor_list)\n",
    "\n",
    "    # Creates histograms for train data\n",
    "    bovw_train = image_class_training(all_bovw_feature, bag_of_visual_words)\n",
    "    # Creates histograms for test data\n",
    "    df_test['histograms'] = df_test['sift_descriptors'].apply(lambda x: get_histogram(x, bag_of_visual_words))\n",
    "    bovw_test = df_test['histograms'].values"
   ],
   "metadata": {
    "collapsed": false,
    "pycharm": {
     "name": "#%%\n"
    }
   }
  },
  {
   "cell_type": "code",
   "execution_count": 10,
   "outputs": [
    {
     "name": "stdout",
     "output_type": "stream",
     "text": [
      "              precision    recall  f1-score   support\n",
      "\n",
      "           1       0.00      0.00      0.00         2\n",
      "           2       0.00      0.00      0.00         2\n",
      "           3       0.00      0.00      0.00         2\n",
      "           4       0.00      0.00      0.00         1\n",
      "           5       0.00      0.00      0.00         2\n",
      "           6       0.00      0.00      0.00         1\n",
      "           7       0.00      0.00      0.00         2\n",
      "           8       0.00      0.00      0.00         1\n",
      "           9       0.00      0.00      0.00         4\n",
      "          10       0.00      0.00      0.00         0\n",
      "          11       0.00      0.00      0.00         2\n",
      "          12       0.00      0.00      0.00         2\n",
      "          13       0.50      0.40      0.44         5\n",
      "          14       0.00      0.00      0.00         1\n",
      "          15       0.00      0.00      0.00         4\n",
      "          17       0.00      0.00      0.00         2\n",
      "          18       0.00      0.00      0.00         2\n",
      "          19       0.00      0.00      0.00         2\n",
      "          20       0.00      0.00      0.00         2\n",
      "          22       0.00      0.00      0.00         3\n",
      "          23       0.00      0.00      0.00         2\n",
      "          24       0.00      0.00      0.00         1\n",
      "          25       0.00      0.00      0.00         2\n",
      "          26       0.00      0.00      0.00         3\n",
      "          28       0.00      0.00      0.00         1\n",
      "          29       0.00      0.00      0.00         2\n",
      "          30       0.00      0.00      0.00         3\n",
      "          31       0.00      0.00      0.00         2\n",
      "          32       0.00      0.00      0.00         2\n",
      "          33       0.00      0.00      0.00         0\n",
      "          34       0.00      0.00      0.00         1\n",
      "          35       0.00      0.00      0.00         1\n",
      "          36       0.00      0.00      0.00         1\n",
      "          37       0.00      0.00      0.00         4\n",
      "          38       0.00      0.00      0.00         2\n",
      "          39       0.00      0.00      0.00         3\n",
      "          40       0.00      0.00      0.00         1\n",
      "\n",
      "    accuracy                           0.03        73\n",
      "   macro avg       0.01      0.01      0.01        73\n",
      "weighted avg       0.03      0.03      0.03        73\n",
      "\n"
     ]
    },
    {
     "name": "stderr",
     "output_type": "stream",
     "text": [
      "C:\\Users\\HS-Rn7\\anaconda3\\envs\\LabWork\\lib\\site-packages\\sklearn\\metrics\\_classification.py:1221: UndefinedMetricWarning: Precision and F-score are ill-defined and being set to 0.0 in labels with no predicted samples. Use `zero_division` parameter to control this behavior.\n",
      "  _warn_prf(average, modifier, msg_start, len(result))\n",
      "C:\\Users\\HS-Rn7\\anaconda3\\envs\\LabWork\\lib\\site-packages\\sklearn\\metrics\\_classification.py:1221: UndefinedMetricWarning: Recall and F-score are ill-defined and being set to 0.0 in labels with no true samples. Use `zero_division` parameter to control this behavior.\n",
      "  _warn_prf(average, modifier, msg_start, len(result))\n"
     ]
    }
   ],
   "source": [
    "pred = df_test['histograms'].apply(lambda x: knn(bovw_train, x))\n",
    "\n",
    "# Calculates the accuracies and write the results to the console.\n",
    "print(classification_report(df_test['lbl_no'].values, pred.values))"
   ],
   "metadata": {
    "collapsed": false,
    "pycharm": {
     "name": "#%%\n"
    }
   }
  },
  {
   "cell_type": "code",
   "execution_count": 6,
   "outputs": [],
   "source": [
    "# HOG\n",
    "SZ=20\n",
    "bin_n = 16 # Number of bins\n",
    "affine_flags = cv.WARP_INVERSE_MAP|cv.INTER_LINEAR\n",
    "def deskew(img):\n",
    "    m = cv.moments(img)\n",
    "    if abs(m['mu02']) < 1e-2:\n",
    "        return img.copy()\n",
    "    skew = m['mu11']/m['mu02']\n",
    "    M = np.float32([[1, skew, -0.5*SZ*skew], [0, 1, 0]])\n",
    "    img = cv.warpAffine(img,M,(SZ, SZ),flags=affine_flags)\n",
    "    return img\n",
    "def hog(img):\n",
    "    gx = cv.Sobel(img, cv.CV_32F, 1, 0)\n",
    "    gy = cv.Sobel(img, cv.CV_32F, 0, 1)\n",
    "    mag, ang = cv.cartToPolar(gx, gy)\n",
    "    bins = np.int32(bin_n*ang/(2*np.pi))    # quantizing binvalues in (0...16)\n",
    "    bin_cells = bins[:10,:10], bins[10:,:10], bins[:10,10:], bins[10:,10:]\n",
    "    mag_cells = mag[:10,:10], mag[10:,:10], mag[:10,10:], mag[10:,10:]\n",
    "    hists = [np.bincount(b.ravel(), m.ravel(), bin_n) for b, m in zip(bin_cells, mag_cells)]\n",
    "    hist = np.hstack(hists)     # hist is a 64 bit vector\n",
    "    return hist"
   ],
   "metadata": {
    "collapsed": false,
    "pycharm": {
     "name": "#%%\n"
    }
   }
  },
  {
   "cell_type": "code",
   "execution_count": 7,
   "outputs": [
    {
     "data": {
      "text/plain": "<Figure size 432x288 with 1 Axes>",
      "image/png": "[encoded data removed]"
     },
     "metadata": {
      "needs_background": "light"
     },
     "output_type": "display_data"
    },
    {
     "data": {
      "text/plain": "array([[26.      ,  0.      ,  0.      , ...,  0.      ,  0.      ,\n         0.      ],\n       [23.071068,  0.      ,  0.      , ...,  0.      ,  0.      ,\n         0.      ],\n       [ 8.      ,  0.      ,  0.      , ...,  0.      ,  0.      ,\n         0.      ],\n       ...,\n       [71.42546 ,  0.      , 17.492855, ...,  0.      ,  0.      ,\n         0.      ],\n       [26.      , 31.874952, 18.602325, ...,  0.      ,  0.      ,\n         0.      ],\n       [49.30387 , 54.02871 , 47.212322, ...,  0.      ,  0.      ,\n         0.      ]], dtype=float32)"
     },
     "execution_count": 7,
     "metadata": {},
     "output_type": "execute_result"
    }
   ],
   "source": [
    "img = df_training['imgs_gray'][0]\n",
    "plt.imshow(img, cmap='gray')\n",
    "plt.show()\n",
    "if img is None:\n",
    "    raise Exception(\"we need the image from here !\")\n",
    "\n",
    "\n",
    "cells = [np.hsplit(row,100) for row in np.vsplit(img,50)]\n",
    "# First half is trainData, remaining is testData\n",
    "train_cells = [ i[:50] for i in cells ]\n",
    "test_cells = [ i[50:] for i in cells]\n",
    "deskewed = [list(map(deskew,row)) for row in train_cells]\n",
    "hogdata = [list(map(hog,row)) for row in deskewed]\n",
    "trainData = np.float32(hogdata).reshape(-1,64)\n",
    "responses = np.repeat(np.arange(10),250)[:,np.newaxis]\n",
    "deskewed = [list(map(deskew,row)) for row in test_cells]\n",
    "hogdata = [list(map(hog,row)) for row in deskewed]\n",
    "testData = np.float32(hogdata).reshape(-1,bin_n*4)\n",
    "with tf.device('/device:GPU:0'):\n",
    "    start = time.time()\n",
    "    print(\"Start SVM computing\")\n",
    "    svm = cv.ml.SVM_create()\n",
    "    svm.setKernel(cv.ml.SVM_LINEAR)\n",
    "    svm.setType(cv.ml.SVM_C_SVC)\n",
    "    svm.setC(2.67)\n",
    "    svm.setGamma(5.383)\n",
    "    svm.train(trainData, cv.ml.ROW_SAMPLE, responses)\n",
    "    print(\"End time : \", time.time() - start)\n",
    "    # svm.save('models/svm_data.dat')\n",
    "    start = time.time()\n",
    "    print(\"Start SVM pred\")\n",
    "    result = svm.predict(testData)[1]\n",
    "    print(\"End time : \", time.time() - start)\n",
    "    mask = result==responses\n",
    "    correct = np.count_nonzero(mask)\n",
    "    print(correct*100.0/result.size)"
   ],
   "metadata": {
    "collapsed": false,
    "pycharm": {
     "name": "#%%\n"
    }
   }
  },
  {
   "cell_type": "markdown",
   "source": [
    "### Local binary patterns"
   ],
   "metadata": {
    "collapsed": false,
    "pycharm": {
     "name": "#%% md\n"
    }
   }
  },
  {
   "cell_type": "code",
   "execution_count": 74,
   "outputs": [],
   "source": [
    "# import the necessary packages\n",
    "from skimage import feature\n",
    "\n",
    "class LocalBinaryPatterns:\n",
    "    def __init__(self, numPoints, radius):\n",
    "        # store the number of points and radius\n",
    "        self.numPoints = numPoints\n",
    "        self.radius = radius\n",
    "    def describe(self, image, eps=1e-7):\n",
    "        # compute the Local Binary Pattern representation\n",
    "        # of the image, and then use the LBP representation\n",
    "        # to build the histogram of patterns\n",
    "        lbp = feature.local_binary_pattern(image, self.numPoints,\n",
    "            self.radius, method=\"uniform\")\n",
    "        (hist, _) = np.histogram(lbp.ravel(),\n",
    "            bins=np.arange(0, self.numPoints + 3),\n",
    "            range=(0, self.numPoints + 2))\n",
    "        # normalize the histogram\n",
    "        hist = hist.astype(np.float)\n",
    "        hist /= (hist.sum() + eps)\n",
    "        # return the histogram of Local Binary Patterns\n",
    "        return list(hist)"
   ],
   "metadata": {
    "collapsed": false,
    "pycharm": {
     "name": "#%%\n"
    }
   }
  },
  {
   "cell_type": "code",
   "execution_count": 94,
   "outputs": [
    {
     "name": "stderr",
     "output_type": "stream",
     "text": [
      "C:\\Users\\HS-Rn7\\anaconda3\\envs\\LabWork\\lib\\site-packages\\sklearn\\svm\\_base.py:976: ConvergenceWarning: Liblinear failed to converge, increase the number of iterations.\n",
      "  warnings.warn(\"Liblinear failed to converge, increase \"\n"
     ]
    },
    {
     "name": "stdout",
     "output_type": "stream",
     "text": [
      "Acurr:  2.73972602739726\n"
     ]
    }
   ],
   "source": [
    "from sklearn.svm import LinearSVC\n",
    "import cv2\n",
    "import os\n",
    "# initialize the local binary patterns descriptor along with\n",
    "# the data and label lists\n",
    "desc = LocalBinaryPatterns(50, 8)\n",
    "data = df_training['imgs_gray'].apply(desc.describe)\n",
    "data = list(data.values)\n",
    "labels = df_training['lbl_no']\n",
    "# train a Linear SVM on the data\n",
    "model = LinearSVC(C=100.0, random_state=42)\n",
    "model.fit(data, labels.values)\n",
    "\n",
    "test_data = df_test['imgs_gray'].apply(desc.describe)\n",
    "test_data = list(test_data.values)\n",
    "test_labels = df_test['lbl_no']\n",
    "predictions = model.predict(test_data)\n",
    "print('Acurr: ', np.count_nonzero(predictions == test_labels) * 100 / len(predictions))"
   ],
   "metadata": {
    "collapsed": false,
    "pycharm": {
     "name": "#%%\n"
    }
   }
  }
 ],
 "metadata": {
  "kernelspec": {
   "display_name": "Python 3",
   "language": "python",
   "name": "python3"
  },
  "language_info": {
   "codemirror_mode": {
    "name": "ipython",
    "version": 2
   },
   "file_extension": ".py",
   "mimetype": "text/x-python",
   "name": "python",
   "nbconvert_exporter": "python",
   "pygments_lexer": "ipython2",
   "version": "2.7.6"
  }
 },
 "nbformat": 4,
 "nbformat_minor": 0
}